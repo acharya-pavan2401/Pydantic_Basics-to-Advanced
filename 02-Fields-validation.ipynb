{
 "cells": [
  {
   "cell_type": "code",
   "execution_count": 4,
   "id": "9f1d9f66",
   "metadata": {},
   "outputs": [],
   "source": [
    "from pydantic import BaseModel, ValidationError # type: ignore\n",
    "from typing import List, Dict, Optional"
   ]
  },
  {
   "cell_type": "code",
   "execution_count": 5,
   "id": "0f69f078",
   "metadata": {},
   "outputs": [],
   "source": [
    "class Cart(BaseModel):\n",
    "    user_id: int\n",
    "    items: List[str]\n",
    "    quantities: Dict[str, int]\n",
    "\n",
    "class BlogPost(BaseModel):\n",
    "    title: str\n",
    "    content: str\n",
    "    image_url: Optional[str] = None"
   ]
  },
  {
   "cell_type": "code",
   "execution_count": 8,
   "id": "2a22f85f",
   "metadata": {},
   "outputs": [
    {
     "name": "stdout",
     "output_type": "stream",
     "text": [
      "Cart Test: user_id=101 items=['Apple', 'Banana'] quantities={'Apple': 2, 'Banana': 3}\n",
      "Blog Test: title='AI and the Future' content='Exploring the impact of AI on society.' image_url=None\n"
     ]
    }
   ],
   "source": [
    "# Testing valid instances\n",
    "cart_test = Cart(user_id=101, items=[\"Apple\", \"Banana\"], quantities={\"Apple\": 2, \"Banana\": 3})\n",
    "print(\"Cart Test:\", cart_test)\n",
    "\n",
    "blog_test = BlogPost(title=\"AI and the Future\", content=\"Exploring the impact of AI on society.\")\n",
    "print(\"Blog Test:\", blog_test)\n"
   ]
  },
  {
   "cell_type": "code",
   "execution_count": 9,
   "id": "95ee0c41",
   "metadata": {},
   "outputs": [
    {
     "name": "stdout",
     "output_type": "stream",
     "text": [
      "\n",
      "Invalid Cart Error: 2 validation errors for Cart\n",
      "user_id\n",
      "  Input should be a valid integer, unable to parse string as an integer [type=int_parsing, input_value='XYZ', input_type=str]\n",
      "    For further information visit https://errors.pydantic.dev/2.11/v/int_parsing\n",
      "quantities.Laptop\n",
      "  Input should be a valid integer, unable to parse string as an integer [type=int_parsing, input_value='Two', input_type=str]\n",
      "    For further information visit https://errors.pydantic.dev/2.11/v/int_parsing\n",
      "\n",
      "Invalid Blog Error: 3 validation errors for BlogPost\n",
      "title\n",
      "  Input should be a valid string [type=string_type, input_value=123, input_type=int]\n",
      "    For further information visit https://errors.pydantic.dev/2.11/v/string_type\n",
      "content\n",
      "  Input should be a valid string [type=string_type, input_value=['This should be a string'], input_type=list]\n",
      "    For further information visit https://errors.pydantic.dev/2.11/v/string_type\n",
      "image_url\n",
      "  Input should be a valid string [type=string_type, input_value=456, input_type=int]\n",
      "    For further information visit https://errors.pydantic.dev/2.11/v/string_type\n"
     ]
    }
   ],
   "source": [
    "# Testing invalid instances\n",
    "try:\n",
    "    invalid_cart = Cart(user_id=\"XYZ\", items=[\"Laptop\"], quantities={\"Laptop\": \"Two\"})\n",
    "except ValidationError as e:\n",
    "    print(\"\\nInvalid Cart Error:\", e)\n",
    "\n",
    "try:\n",
    "    invalid_blog = BlogPost(title=123, content=[\"This should be a string\"], image_url=456)\n",
    "except ValidationError as e:\n",
    "    print(\"\\nInvalid Blog Error:\", e)"
   ]
  },
  {
   "cell_type": "code",
   "execution_count": 10,
   "id": "fb917bd7",
   "metadata": {},
   "outputs": [
    {
     "name": "stdout",
     "output_type": "stream",
     "text": [
      "\n",
      "Default Blog Image URL: None\n"
     ]
    }
   ],
   "source": [
    "# Testing default behavior\n",
    "default_blog = BlogPost(title=\"Tech Trends\", content=\"Latest updates in the industry.\")\n",
    "print(\"\\nDefault Blog Image URL:\", default_blog.image_url)  # Should be None"
   ]
  },
  {
   "cell_type": "code",
   "execution_count": null,
   "id": "fc8fedbc",
   "metadata": {},
   "outputs": [],
   "source": [
    "from pydantic import BaseModel, Field # type: ignore\n",
    "\n",
    "# TODO: Create Employee model\n",
    "# Fields:\n",
    "# - id: int\n",
    "# - name: str (min 3 chars)\n",
    "# - department: optional str (default 'General')\n",
    "# - salary: float (must be >= 10000)\n",
    "\n",
    "class Employee(BaseModel):\n",
    "    id: int\n",
    "    name: str = Field(\n",
    "        ..., \n",
    "        min_length=3,\n",
    "        max_length=50,\n",
    "        description=\"Employee Name\",\n",
    "        example=\"Hitesh Choudhary\"\n",
    "        )\n",
    "    department: Optional[str] = 'Mechanical'\n",
    "    salary: float = Field(..., ge=10000)"
   ]
  },
  {
   "cell_type": "code",
   "execution_count": null,
   "id": "02951bf9",
   "metadata": {},
   "outputs": [],
   "source": [
    "# Testing valid instance\n",
    "employee_test = Employee(id=1, name=\"Alice Johnson\", salary=12000)\n",
    "print(\"Valid Employee:\", employee_test)"
   ]
  },
  {
   "cell_type": "code",
   "execution_count": null,
   "id": "6f5c5715",
   "metadata": {},
   "outputs": [],
   "source": [
    "# Testing default value for department\n",
    "print(f\"\\nEmployee Department (default check): {employee_test.department}\")"
   ]
  },
  {
   "cell_type": "code",
   "execution_count": null,
   "id": "26170a6e",
   "metadata": {},
   "outputs": [],
   "source": [
    "# Testing validation errors\n",
    "try:\n",
    "    invalid_employee = Employee(id=2, name=\"Al\", salary=9500)  # Name too short, salary below threshold\n",
    "except ValidationError as e:\n",
    "    print(\"\\nInvalid Employee Error:\", e)\n",
    "\n",
    "try:\n",
    "    invalid_employee_2 = Employee(id=\"XYZ\", name=\"Bob\", salary=\"Twenty Thousand\")  # Wrong data types\n",
    "except ValidationError as e:\n",
    "    print(\"\\nInvalid Employee Error:\", e)"
   ]
  }
 ],
 "metadata": {
  "kernelspec": {
   "display_name": "Python 3",
   "language": "python",
   "name": "python3"
  },
  "language_info": {
   "codemirror_mode": {
    "name": "ipython",
    "version": 3
   },
   "file_extension": ".py",
   "mimetype": "text/x-python",
   "name": "python",
   "nbconvert_exporter": "python",
   "pygments_lexer": "ipython3",
   "version": "3.10.0"
  }
 },
 "nbformat": 4,
 "nbformat_minor": 5
}
